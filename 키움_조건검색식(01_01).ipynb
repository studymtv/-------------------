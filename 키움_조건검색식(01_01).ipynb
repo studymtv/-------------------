{
  "nbformat": 4,
  "nbformat_minor": 0,
  "metadata": {
    "colab": {
      "provenance": [],
      "authorship_tag": "ABX9TyMGZJ79up0SsBS3IRCKtN0W",
      "include_colab_link": true
    },
    "kernelspec": {
      "name": "python3",
      "display_name": "Python 3"
    },
    "language_info": {
      "name": "python"
    }
  },
  "cells": [
    {
      "cell_type": "markdown",
      "metadata": {
        "id": "view-in-github",
        "colab_type": "text"
      },
      "source": [
        "<a href=\"https://colab.research.google.com/github/studymtv/-------------------/blob/master/%ED%82%A4%EC%9B%80_%EC%A1%B0%EA%B1%B4%EA%B2%80%EC%83%89%EC%8B%9D(01_01).ipynb\" target=\"_parent\"><img src=\"https://colab.research.google.com/assets/colab-badge.svg\" alt=\"Open In Colab\"/></a>"
      ]
    },
    {
      "cell_type": "code",
      "execution_count": 12,
      "metadata": {
        "colab": {
          "base_uri": "https://localhost:8080/",
          "height": 532
        },
        "id": "wc9UAr99t-hU",
        "outputId": "c9e2ce24-9346-4736-dd79-b80092032185"
      },
      "outputs": [
        {
          "output_type": "error",
          "ename": "ModuleNotFoundError",
          "evalue": "ignored",
          "traceback": [
            "\u001b[0;31m---------------------------------------------------------------------------\u001b[0m",
            "\u001b[0;31mModuleNotFoundError\u001b[0m                       Traceback (most recent call last)",
            "\u001b[0;32m<ipython-input-12-e6d9bcbe407f>\u001b[0m in \u001b[0;36m<cell line: 3>\u001b[0;34m()\u001b[0m\n\u001b[1;32m      1\u001b[0m \u001b[0;31m# prompt: 키움 openapi 이용해서 조건검색식 기반으로 주식 종목 찾아서 매수 매도하는 pyqt 파이썬 코드 작성해줘\u001b[0m\u001b[0;34m\u001b[0m\u001b[0;34m\u001b[0m\u001b[0m\n\u001b[1;32m      2\u001b[0m \u001b[0;34m\u001b[0m\u001b[0m\n\u001b[0;32m----> 3\u001b[0;31m \u001b[0;32mimport\u001b[0m \u001b[0mkiwoom\u001b[0m\u001b[0;34m\u001b[0m\u001b[0;34m\u001b[0m\u001b[0m\n\u001b[0m\u001b[1;32m      4\u001b[0m \u001b[0;32mimport\u001b[0m \u001b[0mpandas\u001b[0m \u001b[0;32mas\u001b[0m \u001b[0mpd\u001b[0m\u001b[0;34m\u001b[0m\u001b[0;34m\u001b[0m\u001b[0m\n\u001b[1;32m      5\u001b[0m \u001b[0;32mimport\u001b[0m \u001b[0mpyqt5\u001b[0m\u001b[0;34m.\u001b[0m\u001b[0mQtWidgets\u001b[0m \u001b[0;32mas\u001b[0m \u001b[0mqtw\u001b[0m\u001b[0;34m\u001b[0m\u001b[0;34m\u001b[0m\u001b[0m\n",
            "\u001b[0;32m/usr/local/lib/python3.10/dist-packages/kiwoom/__init__.py\u001b[0m in \u001b[0;36m<module>\u001b[0;34m\u001b[0m\n\u001b[1;32m      1\u001b[0m \u001b[0;31m# Namespace Control\u001b[0m\u001b[0;34m\u001b[0m\u001b[0;34m\u001b[0m\u001b[0m\n\u001b[0;32m----> 2\u001b[0;31m from . import (\n\u001b[0m\u001b[1;32m      3\u001b[0m     \u001b[0mconfig\u001b[0m\u001b[0;34m,\u001b[0m\u001b[0;34m\u001b[0m\u001b[0;34m\u001b[0m\u001b[0m\n\u001b[1;32m      4\u001b[0m     \u001b[0mcore\u001b[0m\u001b[0;34m,\u001b[0m\u001b[0;34m\u001b[0m\u001b[0;34m\u001b[0m\u001b[0m\n\u001b[1;32m      5\u001b[0m     \u001b[0mdata\u001b[0m\u001b[0;34m,\u001b[0m\u001b[0;34m\u001b[0m\u001b[0;34m\u001b[0m\u001b[0m\n",
            "\u001b[0;32m/usr/local/lib/python3.10/dist-packages/kiwoom/core/__init__.py\u001b[0m in \u001b[0;36m<module>\u001b[0;34m\u001b[0m\n\u001b[0;32m----> 1\u001b[0;31m from . import (\n\u001b[0m\u001b[1;32m      2\u001b[0m     \u001b[0mbot\u001b[0m\u001b[0;34m,\u001b[0m\u001b[0;34m\u001b[0m\u001b[0;34m\u001b[0m\u001b[0m\n\u001b[1;32m      3\u001b[0m     \u001b[0mconnector\u001b[0m\u001b[0;34m,\u001b[0m\u001b[0;34m\u001b[0m\u001b[0;34m\u001b[0m\u001b[0m\n\u001b[1;32m      4\u001b[0m     \u001b[0mkiwoom\u001b[0m\u001b[0;34m,\u001b[0m\u001b[0;34m\u001b[0m\u001b[0;34m\u001b[0m\u001b[0m\n\u001b[1;32m      5\u001b[0m     \u001b[0mserver\u001b[0m\u001b[0;34m\u001b[0m\u001b[0;34m\u001b[0m\u001b[0m\n",
            "\u001b[0;32m/usr/local/lib/python3.10/dist-packages/kiwoom/core/bot.py\u001b[0m in \u001b[0;36m<module>\u001b[0;34m\u001b[0m\n\u001b[1;32m     13\u001b[0m \u001b[0;32mfrom\u001b[0m \u001b[0mkiwoom\u001b[0m\u001b[0;34m.\u001b[0m\u001b[0mconfig\u001b[0m\u001b[0;34m.\u001b[0m\u001b[0mscreen\u001b[0m \u001b[0;32mimport\u001b[0m \u001b[0mScreen\u001b[0m\u001b[0;34m\u001b[0m\u001b[0;34m\u001b[0m\u001b[0m\n\u001b[1;32m     14\u001b[0m \u001b[0;32mfrom\u001b[0m \u001b[0mkiwoom\u001b[0m\u001b[0;34m.\u001b[0m\u001b[0mconfig\u001b[0m\u001b[0;34m.\u001b[0m\u001b[0mtypes\u001b[0m \u001b[0;32mimport\u001b[0m \u001b[0mExitType\u001b[0m\u001b[0;34m\u001b[0m\u001b[0;34m\u001b[0m\u001b[0m\n\u001b[0;32m---> 15\u001b[0;31m \u001b[0;32mfrom\u001b[0m \u001b[0mkiwoom\u001b[0m\u001b[0;34m.\u001b[0m\u001b[0mcore\u001b[0m\u001b[0;34m.\u001b[0m\u001b[0mkiwoom\u001b[0m \u001b[0;32mimport\u001b[0m \u001b[0mKiwoom\u001b[0m\u001b[0;34m\u001b[0m\u001b[0;34m\u001b[0m\u001b[0m\n\u001b[0m\u001b[1;32m     16\u001b[0m \u001b[0;32mfrom\u001b[0m \u001b[0mkiwoom\u001b[0m\u001b[0;34m.\u001b[0m\u001b[0mcore\u001b[0m\u001b[0;34m.\u001b[0m\u001b[0mserver\u001b[0m \u001b[0;32mimport\u001b[0m \u001b[0mServer\u001b[0m\u001b[0;34m\u001b[0m\u001b[0;34m\u001b[0m\u001b[0m\n\u001b[1;32m     17\u001b[0m \u001b[0;32mfrom\u001b[0m \u001b[0mkiwoom\u001b[0m\u001b[0;34m.\u001b[0m\u001b[0mdata\u001b[0m\u001b[0;34m.\u001b[0m\u001b[0mshare\u001b[0m \u001b[0;32mimport\u001b[0m \u001b[0mShare\u001b[0m\u001b[0;34m\u001b[0m\u001b[0;34m\u001b[0m\u001b[0m\n",
            "\u001b[0;32m/usr/local/lib/python3.10/dist-packages/kiwoom/core/kiwoom.py\u001b[0m in \u001b[0;36m<module>\u001b[0;34m\u001b[0m\n\u001b[1;32m      6\u001b[0m \u001b[0;32mfrom\u001b[0m \u001b[0mkiwoom\u001b[0m\u001b[0;34m.\u001b[0m\u001b[0mconfig\u001b[0m\u001b[0;34m.\u001b[0m\u001b[0merror\u001b[0m \u001b[0;32mimport\u001b[0m \u001b[0mcatch_error\u001b[0m\u001b[0;34m\u001b[0m\u001b[0;34m\u001b[0m\u001b[0m\n\u001b[1;32m      7\u001b[0m \u001b[0;32mfrom\u001b[0m \u001b[0mkiwoom\u001b[0m\u001b[0;34m.\u001b[0m\u001b[0mcore\u001b[0m\u001b[0;34m.\u001b[0m\u001b[0mconnector\u001b[0m \u001b[0;32mimport\u001b[0m \u001b[0mConnector\u001b[0m\u001b[0;34m\u001b[0m\u001b[0;34m\u001b[0m\u001b[0m\n\u001b[0;32m----> 8\u001b[0;31m \u001b[0;32mfrom\u001b[0m \u001b[0mkiwoom\u001b[0m\u001b[0;34m.\u001b[0m\u001b[0mwrapper\u001b[0m\u001b[0;34m.\u001b[0m\u001b[0mapi\u001b[0m \u001b[0;32mimport\u001b[0m \u001b[0mAPI\u001b[0m\u001b[0;34m\u001b[0m\u001b[0;34m\u001b[0m\u001b[0m\n\u001b[0m\u001b[1;32m      9\u001b[0m \u001b[0;34m\u001b[0m\u001b[0m\n\u001b[1;32m     10\u001b[0m \u001b[0;34m\u001b[0m\u001b[0m\n",
            "\u001b[0;32m/usr/local/lib/python3.10/dist-packages/kiwoom/wrapper/__init__.py\u001b[0m in \u001b[0;36m<module>\u001b[0;34m\u001b[0m\n\u001b[0;32m----> 1\u001b[0;31m \u001b[0;32mfrom\u001b[0m \u001b[0;34m.\u001b[0m \u001b[0;32mimport\u001b[0m \u001b[0mapi\u001b[0m\u001b[0;34m\u001b[0m\u001b[0;34m\u001b[0m\u001b[0m\n\u001b[0m\u001b[1;32m      2\u001b[0m \u001b[0;32mfrom\u001b[0m \u001b[0;34m.\u001b[0m\u001b[0mapi\u001b[0m \u001b[0;32mimport\u001b[0m \u001b[0mAPI\u001b[0m\u001b[0;34m\u001b[0m\u001b[0;34m\u001b[0m\u001b[0m\n",
            "\u001b[0;32m/usr/local/lib/python3.10/dist-packages/kiwoom/wrapper/api.py\u001b[0m in \u001b[0;36m<module>\u001b[0;34m\u001b[0m\n\u001b[0;32m----> 1\u001b[0;31m \u001b[0;32mfrom\u001b[0m \u001b[0mPyQt5\u001b[0m\u001b[0;34m.\u001b[0m\u001b[0mQAxContainer\u001b[0m \u001b[0;32mimport\u001b[0m \u001b[0mQAxWidget\u001b[0m\u001b[0;34m\u001b[0m\u001b[0;34m\u001b[0m\u001b[0m\n\u001b[0m\u001b[1;32m      2\u001b[0m \u001b[0;34m\u001b[0m\u001b[0m\n\u001b[1;32m      3\u001b[0m \u001b[0;34m\u001b[0m\u001b[0m\n\u001b[1;32m      4\u001b[0m \u001b[0;32mclass\u001b[0m \u001b[0mAPI\u001b[0m\u001b[0;34m(\u001b[0m\u001b[0mQAxWidget\u001b[0m\u001b[0;34m)\u001b[0m\u001b[0;34m:\u001b[0m\u001b[0;34m\u001b[0m\u001b[0;34m\u001b[0m\u001b[0m\n\u001b[1;32m      5\u001b[0m     \"\"\"\n",
            "\u001b[0;31mModuleNotFoundError\u001b[0m: No module named 'PyQt5.QAxContainer'",
            "",
            "\u001b[0;31m---------------------------------------------------------------------------\u001b[0;32m\nNOTE: If your import is failing due to a missing package, you can\nmanually install dependencies using either !pip or !apt.\n\nTo view examples of installing some common dependencies, click the\n\"Open Examples\" button below.\n\u001b[0;31m---------------------------------------------------------------------------\u001b[0m\n"
          ],
          "errorDetails": {
            "actions": [
              {
                "action": "open_url",
                "actionText": "Open Examples",
                "url": "/notebooks/snippets/importing_libraries.ipynb"
              }
            ]
          }
        }
      ],
      "source": [
        "# prompt: 키움 openapi 이용해서 조건검색식 기반으로 주식 종목 찾아서 매수 매도하는 pyqt 파이썬 코드 작성해줘\n",
        "\n",
        "import kiwoom\n",
        "import pandas as pd\n",
        "import pyqt5.QtWidgets as qtw\n",
        "\n",
        "class KiwoomOpenapi():\n",
        "    def __init__(self):\n",
        "        self.kiwoom = kiwoom.Kiwoom()\n",
        "        self.kiwoom.comm_connect()\n",
        "\n",
        "    def get_stock_list(self, search_condition):\n",
        "        \"\"\"조건검색식에 맞는 주식 종목 리스트를 반환합니다.\"\"\"\n",
        "        stock_list = []\n",
        "        for code in self.kiwoom.get_code_list():\n",
        "            stock_name = self.kiwoom.get_master_stock_name(code)\n",
        "            stock_price = self.kiwoom.get_current_price(code)\n",
        "            if self.kiwoom.check_search_condition(code, search_condition):\n",
        "                stock_list.append((code, stock_name, stock_price))\n",
        "        return stock_list\n",
        "\n",
        "    def buy_stock(self, code, quantity):\n",
        "        \"\"\"주식을 매수합니다.\"\"\"\n",
        "        self.kiwoom.send_order(\"BUY\", code, quantity, 0, \"03\")\n",
        "\n",
        "    def sell_stock(self, code, quantity):\n",
        "        \"\"\"주식을 매도합니다.\"\"\"\n",
        "        self.kiwoom.send_order(\"SELL\", code, quantity, 0, \"03\")\n",
        "\n",
        "class MainWindow(qtw.QWidget):\n",
        "    def __init__(self):\n",
        "        super().__init__()\n",
        "        self.setWindowTitle(\"키움 Openapi\")\n",
        "        self.setFixedSize(300, 200)\n",
        "\n",
        "        self.kiwoom_openapi = KiwoomOpenapi()\n",
        "\n",
        "        self.search_condition_label = qtw.QLabel(\"조건검색식:\")\n",
        "        self.search_condition_edit = qtw.QLineEdit()\n",
        "        self.search_condition_edit.setPlaceholderText(\"예: (종목코드='005930') AND (현재가 < 10000)\")\n",
        "\n",
        "        self.stock_list_label = qtw.QLabel(\"주식 종목 리스트:\")\n",
        "        self.stock_list_table = qtw.QTableWidget()\n",
        "        self.stock_list_table.setRowCount(0)\n",
        "        self.stock_list_table.setColumnCount(3)\n",
        "        self.stock_list_table.setHorizontalHeaderLabels([\"종목코드\", \"종목명\", \"현재가\"])\n",
        "\n",
        "        self.buy_stock_button = qtw.QPushButton(\"매수\")\n",
        "        self.sell_stock_button = qtw.QPushButton(\"매도\")\n",
        "\n",
        "        self.layout = qtw.QVBoxLayout()\n",
        "        self.layout.addWidget(self.search_condition_label)\n",
        "        self.layout.addWidget(self.search_condition_edit)\n",
        "        self.layout.addWidget(self.stock_list_label)\n",
        "        self.layout.addWidget(self.stock_list_table)\n",
        "        self.layout.addWidget(self.buy_stock_button)\n",
        "        self.layout.addWidget(self.sell_stock_button)\n",
        "\n",
        "        self.setLayout(self.layout)\n",
        "\n",
        "        self.search_condition_edit.textChanged.connect(self.update_stock_list)\n",
        "        self.buy_stock_button.clicked.connect(self.buy_stock)\n",
        "        self.sell_stock_button.clicked.connect(self.sell_stock)\n",
        "\n",
        "    def update_stock_list(self):\n",
        "        \"\"\"조건검색식에 맞는 주식 종목 리스트를 업데이트합니다.\"\"\"\n",
        "        self.stock_list_table.setRowCount(0)\n",
        "        stock_list = self.kiwoom_openapi.get_stock_list(self.search_condition_edit.text())\n",
        "        for code, stock_name, stock_price in stock_list:\n",
        "            row_index = self.stock_list_table.rowCount()\n",
        "            self.stock_list_table.insertRow(row_index)\n",
        "            self.stock_list_table.setItem(row_index, 0, qtw.QTableWidgetItem(code))\n",
        "            self.stock_list_table.setItem(row_index, 1, qtw.QTableWidgetItem(stock_name))\n",
        "            self.stock_list_table.setItem(row_index, 2, qtw.QTableWidgetItem(str(stock_price)))\n",
        "\n",
        "    def buy_stock(self):\n",
        "        \"\"\"주식을 매수합니다.\"\"\"\n",
        "        code = self.stock_list_table.selectedItems()[0].text()\n",
        "        quantity = int(input(\"매수할 수량을 입력하세요: \"))\n",
        "        self.kiwoom_openapi.buy_stock(code, quantity)\n",
        "\n",
        "    def sell_stock(self):\n",
        "        \"\"\"주식을 매도합니다.\"\"\"\n",
        "        code = self.stock_list_table.selectedItems()[0].text()\n",
        "        quantity = int(input(\"매도할 수량을 입력하세요: \"))\n",
        "        self.kiwoom_openapi.sell_stock(code, quantity)\n",
        "\n",
        "if __name__ == \"__main__\":\n",
        "    app = qtw.QApplication([])\n",
        "    main_window = MainWindow()\n",
        "    main_window.show()\n",
        "    app.exec_()\n"
      ]
    },
    {
      "cell_type": "code",
      "source": [],
      "metadata": {
        "id": "KuE2MMqRy3gE"
      },
      "execution_count": null,
      "outputs": []
    },
    {
      "cell_type": "code",
      "source": [],
      "metadata": {
        "id": "EZkNQEF0y304"
      },
      "execution_count": null,
      "outputs": []
    },
    {
      "cell_type": "code",
      "source": [
        "pip install kiwoom"
      ],
      "metadata": {
        "colab": {
          "base_uri": "https://localhost:8080/"
        },
        "id": "zX8qF9oByW8t",
        "outputId": "162808b3-2484-457e-d998-d56d4f3a216a"
      },
      "execution_count": 10,
      "outputs": [
        {
          "output_type": "stream",
          "name": "stdout",
          "text": [
            "Collecting kiwoom\n",
            "  Downloading kiwoom-1.3.4-py3-none-any.whl (49 kB)\n",
            "\u001b[?25l     \u001b[90m━━━━━━━━━━━━━━━━━━━━━━━━━━━━━━━━━━━━━━━━\u001b[0m \u001b[32m0.0/49.2 kB\u001b[0m \u001b[31m?\u001b[0m eta \u001b[36m-:--:--\u001b[0m\r\u001b[2K     \u001b[91m━━━━━━━━━━━━━━━━━━━━━━━━\u001b[0m\u001b[91m╸\u001b[0m\u001b[90m━━━━━━━━━━━━━━━\u001b[0m \u001b[32m30.7/49.2 kB\u001b[0m \u001b[31m806.8 kB/s\u001b[0m eta \u001b[36m0:00:01\u001b[0m\r\u001b[2K     \u001b[90m━━━━━━━━━━━━━━━━━━━━━━━━━━━━━━━━━━━━━━━━\u001b[0m \u001b[32m49.2/49.2 kB\u001b[0m \u001b[31m796.3 kB/s\u001b[0m eta \u001b[36m0:00:00\u001b[0m\n",
            "\u001b[?25hRequirement already satisfied: tabulate>=0.9.0 in /usr/local/lib/python3.10/dist-packages (from kiwoom) (0.9.0)\n",
            "Requirement already satisfied: PyQt5>=5.15.9 in /usr/local/lib/python3.10/dist-packages (from kiwoom) (5.15.10)\n",
            "Requirement already satisfied: PyQt5-sip<13,>=12.13 in /usr/local/lib/python3.10/dist-packages (from PyQt5>=5.15.9->kiwoom) (12.13.0)\n",
            "Requirement already satisfied: PyQt5-Qt5>=5.15.2 in /usr/local/lib/python3.10/dist-packages (from PyQt5>=5.15.9->kiwoom) (5.15.2)\n",
            "Installing collected packages: kiwoom\n",
            "Successfully installed kiwoom-1.3.4\n"
          ]
        }
      ]
    },
    {
      "cell_type": "code",
      "source": [
        "pip install pandas\n"
      ],
      "metadata": {
        "colab": {
          "base_uri": "https://localhost:8080/"
        },
        "id": "d-oIxEiVyPMZ",
        "outputId": "d2f9a24d-0130-4441-c355-9a430673af7c"
      },
      "execution_count": 8,
      "outputs": [
        {
          "output_type": "stream",
          "name": "stdout",
          "text": [
            "Requirement already satisfied: pandas in /usr/local/lib/python3.10/dist-packages (1.5.3)\n",
            "Requirement already satisfied: python-dateutil>=2.8.1 in /usr/local/lib/python3.10/dist-packages (from pandas) (2.8.2)\n",
            "Requirement already satisfied: pytz>=2020.1 in /usr/local/lib/python3.10/dist-packages (from pandas) (2023.3.post1)\n",
            "Requirement already satisfied: numpy>=1.21.0 in /usr/local/lib/python3.10/dist-packages (from pandas) (1.23.5)\n",
            "Requirement already satisfied: six>=1.5 in /usr/local/lib/python3.10/dist-packages (from python-dateutil>=2.8.1->pandas) (1.16.0)\n"
          ]
        }
      ]
    },
    {
      "cell_type": "code",
      "source": [
        "pip install pyqt5\n"
      ],
      "metadata": {
        "colab": {
          "base_uri": "https://localhost:8080/"
        },
        "id": "Xvx3lrSMx6Bk",
        "outputId": "e8981ded-6c6e-4e4c-dc09-7cac5f473d94"
      },
      "execution_count": 4,
      "outputs": [
        {
          "output_type": "stream",
          "name": "stdout",
          "text": [
            "Requirement already satisfied: pyqt5 in /usr/local/lib/python3.10/dist-packages (5.15.10)\n",
            "Requirement already satisfied: PyQt5-sip<13,>=12.13 in /usr/local/lib/python3.10/dist-packages (from pyqt5) (12.13.0)\n",
            "Requirement already satisfied: PyQt5-Qt5>=5.15.2 in /usr/local/lib/python3.10/dist-packages (from pyqt5) (5.15.2)\n"
          ]
        }
      ]
    }
  ]
}